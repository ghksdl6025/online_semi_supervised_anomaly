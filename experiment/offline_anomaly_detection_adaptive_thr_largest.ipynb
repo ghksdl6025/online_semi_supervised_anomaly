{
 "cells": [
  {
   "cell_type": "code",
   "execution_count": 8,
   "id": "9a81e0df",
   "metadata": {},
   "outputs": [
    {
     "data": {
      "text/html": [
       "<style>:root { --jp-notebook-max-width: 100% !important; }</style>"
      ],
      "text/plain": [
       "<IPython.core.display.HTML object>"
      ]
     },
     "metadata": {},
     "output_type": "display_data"
    }
   ],
   "source": [
    "import sys\n",
    "sys.path.append('..')\n",
    "import datetime\n",
    "import time\n",
    "\n",
    "from sklearn.metrics import log_loss\n",
    "import matplotlib.pyplot as plt\n",
    "from kneed import KneeLocator\n",
    "import pandas as pd\n",
    "import numpy as np\n",
    "from sklearn.preprocessing import OneHotEncoder, LabelEncoder\n",
    "from xgboost import XGBClassifier\n",
    "from sklearn.ensemble import RandomForestClassifier\n",
    "from sklearn.metrics import classification_report, f1_score, accuracy_score, log_loss, roc_auc_score\n",
    "import json\n",
    "import ruptures as rpt\n",
    "\n",
    "from IPython.display import display, HTML\n",
    "display(HTML(\"<style>:root { --jp-notebook-max-width: 100% !important; }</style>\"))"
   ]
  },
  {
   "cell_type": "code",
   "execution_count": 2,
   "id": "758564a2",
   "metadata": {},
   "outputs": [],
   "source": [
    "def cross_entropy_loss(model, x_test, y_test):\n",
    "    \n",
    "    probs = model.predict_proba(x_test)\n",
    "    \n",
    "    predicted_probs = []\n",
    "    for i, true_label in enumerate(y_test):\n",
    "        idx_arr = np.where(model.classes_ == true_label)[0]\n",
    "        if len(idx_arr) == 0:\n",
    "            predicted_probs.append(log_loss(y_true = [1,0], y_pred=[0,1])+1)\n",
    "        else:\n",
    "            col_index = idx_arr[0]\n",
    "            true_label_one_hot = np.zeros_like(probs[i])\n",
    "            true_label_one_hot[idx_arr] = 1\n",
    "            predicted_probs.append(log_loss(y_true = true_label_one_hot, y_pred = probs[i]))\n",
    "            \n",
    "    return np.array(predicted_probs)"
   ]
  },
  {
   "cell_type": "code",
   "execution_count": 3,
   "id": "a045e750",
   "metadata": {},
   "outputs": [],
   "source": [
    "def normal_loss(model, x_test, y_test):\n",
    "    \n",
    "    probs = model.predict_proba(X_test)\n",
    "\n",
    "    predicted_probs = []\n",
    "    for i, true_label in enumerate(y_test):\n",
    "        idx_arr = np.where(model.classes_ == true_label)[0]\n",
    "        if len(idx_arr) == 0:\n",
    "            predicted_probs.append(1.1)\n",
    "        else:\n",
    "            col_index = idx_arr[0]\n",
    "            \n",
    "            true_label_one_hot = np.zeros_like(probs[i])\n",
    "            true_label_one_hot[idx_arr] = 1\n",
    "            predicted_probs.append(1-probs[i][col_index])\n",
    "            \n",
    "    return np.array(predicted_probs)"
   ]
  },
  {
   "cell_type": "code",
   "execution_count": 4,
   "id": "cc624a83",
   "metadata": {},
   "outputs": [],
   "source": [
    "def safe_transform_target(encoder, targets, unknown_value=-1):\n",
    "    classes = set(encoder.classes_)\n",
    "    transformed = []\n",
    "    for t in targets:\n",
    "        if t in classes:\n",
    "            transformed.append(encoder.transform([t])[0])\n",
    "        else:\n",
    "            transformed.append(unknown_value)\n",
    "    return np.array(transformed)"
   ]
  },
  {
   "cell_type": "code",
   "execution_count": 5,
   "id": "4dc908bd",
   "metadata": {},
   "outputs": [],
   "source": [
    "def get_clean_loss(normal_loss_value, cross_entropy_loss_value):\n",
    "    normal_loss_dist = []\n",
    "    cross_loss_dist = []\n",
    "    for pos, prediction in  enumerate(normal_loss_value):\n",
    "        if prediction != 1:\n",
    "            cross_loss_dist.append(cross_entropy_loss_value[pos])\n",
    "            normal_loss_dist.append(prediction)\n",
    "\n",
    "    return normal_loss_dist, cross_loss_dist"
   ]
  },
  {
   "cell_type": "code",
   "execution_count": 6,
   "id": "4a3852d0",
   "metadata": {},
   "outputs": [],
   "source": [
    "def cleaning_cls_result(classification_result):\n",
    "    \n",
    "    for i in classification_result.keys():\n",
    "        print(i, classification_result[i].keys())\n",
    "\n",
    "        if '1' not in classification_result[i].keys():\n",
    "            classification_result[i]['1'] = {'precision': 0, 'recall': 0, 'f1-score': 0, 'support': 0.0}\n",
    "    return classification_result"
   ]
  },
  {
   "cell_type": "code",
   "execution_count": 60,
   "id": "5fbbaad7",
   "metadata": {},
   "outputs": [],
   "source": [
    "def find_largest_gap(losses):\n",
    "    y = sorted(losses, reverse=True)\n",
    "    diffs = abs(np.diff(y))\n",
    "    idx = np.argmax(diffs) + 1   # +1 because diffs[i] = y[i+1]-y[i]\n",
    "    return idx, y[idx]"
   ]
  },
  {
   "cell_type": "code",
   "execution_count": 61,
   "id": "85bd0eed",
   "metadata": {},
   "outputs": [
    {
     "name": "stdout",
     "output_type": "stream",
     "text": [
      "0.099_sample.csv\n"
     ]
    }
   ],
   "source": [
    "# ----------------------------\n",
    "# Step 1: Read and Process the Data\n",
    "# ----------------------------\n",
    "dataset = '0.099_sample.csv'\n",
    "df = pd.read_csv(\"../data/%s\" % (dataset))\n",
    "df = df.sort_values(by='Timestamp')\n",
    "# Process the 'noise' column:\n",
    "# - If NaN, assume Normal (0).\n",
    "# - Otherwise, treat True/1/'True' as anomaly (1); everything else as Normal (0).\n",
    "df['noise'] = df['noise'].fillna(0).apply(lambda x: 1 if (x == True or x == 1 or x == 'True' or x=='true') else 0)\n",
    "df['Timestamp'] = pd.to_datetime(df['Timestamp'])\n",
    "print(dataset)\n",
    "# Calculate the cutoff time (e.g., the median of all timestamps)\n",
    "cutoff_time = df['Timestamp'].median()\n",
    "\n",
    "anomaly_f1_list = []\n",
    "anomaly_support_list = []\n",
    "prefix_range = range(2, 16)"
   ]
  },
  {
   "cell_type": "code",
   "execution_count": 63,
   "id": "116eb0f0",
   "metadata": {
    "scrolled": true
   },
   "outputs": [
    {
     "name": "stdout",
     "output_type": "stream",
     "text": [
      "Training window size: 0.8\n",
      "Total cases with at least 2 events: 500\n",
      "Encoded feature shape: (500, 17)\n",
      "Training cases: 400 Test cases: 100\n",
      "Largest gap before sorted-index=38, loss=0.0123\n"
     ]
    },
    {
     "data": {
      "image/png": "[encoded data removed]",
      "text/plain": [
       "<Figure size 432x288 with 1 Axes>"
      ]
     },
     "metadata": {
      "needs_background": "light"
     },
     "output_type": "display_data"
    },
    {
     "name": "stdout",
     "output_type": "stream",
     "text": [
      "Total cases with at least 3 events: 500\n",
      "Encoded feature shape: (500, 34)\n",
      "Training cases: 400 Test cases: 100\n",
      "Largest gap before sorted-index=38, loss=0.1393\n"
     ]
    },
    {
     "data": {
      "image/png": "[encoded data removed]",
      "text/plain": [
       "<Figure size 432x288 with 1 Axes>"
      ]
     },
     "metadata": {
      "needs_background": "light"
     },
     "output_type": "display_data"
    },
    {
     "name": "stdout",
     "output_type": "stream",
     "text": [
      "Total cases with at least 4 events: 500\n",
      "Encoded feature shape: (500, 52)\n",
      "Training cases: 400 Test cases: 100\n",
      "Largest gap before sorted-index=29, loss=0.1732\n"
     ]
    },
    {
     "data": {
      "image/png": "[encoded data removed]",
      "text/plain": [
       "<Figure size 432x288 with 1 Axes>"
      ]
     },
     "metadata": {
      "needs_background": "light"
     },
     "output_type": "display_data"
    },
    {
     "name": "stdout",
     "output_type": "stream",
     "text": [
      "Total cases with at least 5 events: 500\n",
      "Encoded feature shape: (500, 70)\n",
      "Training cases: 400 Test cases: 100\n",
      "Largest gap before sorted-index=22, loss=0.1371\n"
     ]
    },
    {
     "data": {
      "image/png": "[encoded data removed]",
      "text/plain": [
       "<Figure size 432x288 with 1 Axes>"
      ]
     },
     "metadata": {
      "needs_background": "light"
     },
     "output_type": "display_data"
    },
    {
     "name": "stdout",
     "output_type": "stream",
     "text": [
      "Total cases with at least 6 events: 500\n",
      "Encoded feature shape: (500, 88)\n",
      "Training cases: 400 Test cases: 100\n",
      "Largest gap before sorted-index=23, loss=0.1530\n"
     ]
    },
    {
     "data": {
      "image/png": "[encoded data removed]",
      "text/plain": [
       "<Figure size 432x288 with 1 Axes>"
      ]
     },
     "metadata": {
      "needs_background": "light"
     },
     "output_type": "display_data"
    },
    {
     "name": "stdout",
     "output_type": "stream",
     "text": [
      "Total cases with at least 7 events: 500\n",
      "Encoded feature shape: (500, 105)\n",
      "Training cases: 400 Test cases: 100\n",
      "Largest gap before sorted-index=30, loss=0.1688\n"
     ]
    },
    {
     "data": {
      "image/png": "[encoded data removed]",
      "text/plain": [
       "<Figure size 432x288 with 1 Axes>"
      ]
     },
     "metadata": {
      "needs_background": "light"
     },
     "output_type": "display_data"
    },
    {
     "name": "stdout",
     "output_type": "stream",
     "text": [
      "Total cases with at least 8 events: 500\n",
      "Encoded feature shape: (500, 123)\n",
      "Training cases: 400 Test cases: 100\n",
      "Largest gap before sorted-index=19, loss=0.1518\n"
     ]
    },
    {
     "data": {
      "image/png": "[encoded data removed]",
      "text/plain": [
       "<Figure size 432x288 with 1 Axes>"
      ]
     },
     "metadata": {
      "needs_background": "light"
     },
     "output_type": "display_data"
    },
    {
     "name": "stdout",
     "output_type": "stream",
     "text": [
      "Total cases with at least 9 events: 446\n",
      "Encoded feature shape: (446, 141)\n",
      "Training cases: 356 Test cases: 90\n",
      "Largest gap before sorted-index=3, loss=0.1937\n"
     ]
    },
    {
     "data": {
      "image/png": "[encoded data removed]",
      "text/plain": [
       "<Figure size 432x288 with 1 Axes>"
      ]
     },
     "metadata": {
      "needs_background": "light"
     },
     "output_type": "display_data"
    },
    {
     "name": "stdout",
     "output_type": "stream",
     "text": [
      "Total cases with at least 10 events: 402\n",
      "Encoded feature shape: (402, 158)\n",
      "Training cases: 321 Test cases: 81\n",
      "Largest gap before sorted-index=3, loss=0.2307\n"
     ]
    },
    {
     "data": {
      "image/png": "[encoded data removed]",
      "text/plain": [
       "<Figure size 432x288 with 1 Axes>"
      ]
     },
     "metadata": {
      "needs_background": "light"
     },
     "output_type": "display_data"
    },
    {
     "name": "stdout",
     "output_type": "stream",
     "text": [
      "Total cases with at least 11 events: 373\n",
      "Encoded feature shape: (373, 171)\n",
      "Training cases: 298 Test cases: 75\n",
      "Largest gap before sorted-index=2, loss=0.1915\n"
     ]
    },
    {
     "data": {
      "image/png": "[encoded data removed]",
      "text/plain": [
       "<Figure size 432x288 with 1 Axes>"
      ]
     },
     "metadata": {
      "needs_background": "light"
     },
     "output_type": "display_data"
    },
    {
     "name": "stdout",
     "output_type": "stream",
     "text": [
      "Total cases with at least 12 events: 318\n",
      "Encoded feature shape: (318, 187)\n",
      "Training cases: 254 Test cases: 64\n",
      "Largest gap before sorted-index=7, loss=0.1144\n"
     ]
    },
    {
     "data": {
      "image/png": "[encoded data removed]",
      "text/plain": [
       "<Figure size 432x288 with 1 Axes>"
      ]
     },
     "metadata": {
      "needs_background": "light"
     },
     "output_type": "display_data"
    },
    {
     "name": "stdout",
     "output_type": "stream",
     "text": [
      "Total cases with at least 13 events: 241\n",
      "Encoded feature shape: (241, 199)\n",
      "Training cases: 192 Test cases: 49\n",
      "Largest gap before sorted-index=1, loss=0.1460\n"
     ]
    },
    {
     "data": {
      "image/png": "[encoded data removed]",
      "text/plain": [
       "<Figure size 432x288 with 1 Axes>"
      ]
     },
     "metadata": {
      "needs_background": "light"
     },
     "output_type": "display_data"
    },
    {
     "name": "stdout",
     "output_type": "stream",
     "text": [
      "Total cases with at least 14 events: 201\n",
      "Encoded feature shape: (201, 203)\n",
      "Training cases: 160 Test cases: 41\n",
      "Largest gap before sorted-index=3, loss=0.0946\n"
     ]
    },
    {
     "data": {
      "image/png": "[encoded data removed]",
      "text/plain": [
       "<Figure size 432x288 with 1 Axes>"
      ]
     },
     "metadata": {
      "needs_background": "light"
     },
     "output_type": "display_data"
    },
    {
     "name": "stdout",
     "output_type": "stream",
     "text": [
      "Total cases with at least 15 events: 171\n",
      "Encoded feature shape: (171, 206)\n",
      "Training cases: 136 Test cases: 35\n",
      "Largest gap before sorted-index=6, loss=0.0581\n"
     ]
    },
    {
     "data": {
      "image/png": "[encoded data removed]",
      "text/plain": [
       "<Figure size 432x288 with 1 Axes>"
      ]
     },
     "metadata": {
      "needs_background": "light"
     },
     "output_type": "display_data"
    },
    {
     "name": "stdout",
     "output_type": "stream",
     "text": [
      "2 dict_keys(['0', '1', 'accuracy', 'macro avg', 'weighted avg'])\n",
      "3 dict_keys(['0', '1', 'accuracy', 'macro avg', 'weighted avg'])\n",
      "4 dict_keys(['0', '1', 'accuracy', 'macro avg', 'weighted avg'])\n",
      "5 dict_keys(['0', '1', 'accuracy', 'macro avg', 'weighted avg'])\n",
      "6 dict_keys(['0', '1', 'accuracy', 'macro avg', 'weighted avg'])\n",
      "7 dict_keys(['0', '1', 'accuracy', 'macro avg', 'weighted avg'])\n",
      "8 dict_keys(['0', '1', 'accuracy', 'macro avg', 'weighted avg'])\n",
      "9 dict_keys(['0', '1', 'accuracy', 'macro avg', 'weighted avg'])\n",
      "10 dict_keys(['0', '1', 'accuracy', 'macro avg', 'weighted avg'])\n",
      "11 dict_keys(['0', '1', 'accuracy', 'macro avg', 'weighted avg'])\n",
      "12 dict_keys(['0', '1', 'accuracy', 'macro avg', 'weighted avg'])\n",
      "13 dict_keys(['0', '1', 'accuracy', 'macro avg', 'weighted avg'])\n",
      "14 dict_keys(['0', '1', 'accuracy', 'macro avg', 'weighted avg'])\n",
      "15 dict_keys(['0', '1', 'accuracy', 'macro avg', 'weighted avg'])\n"
     ]
    },
    {
     "data": {
      "text/html": [
       "<div>\n",
       "<style scoped>\n",
       "    .dataframe tbody tr th:only-of-type {\n",
       "        vertical-align: middle;\n",
       "    }\n",
       "\n",
       "    .dataframe tbody tr th {\n",
       "        vertical-align: top;\n",
       "    }\n",
       "\n",
       "    .dataframe thead th {\n",
       "        text-align: right;\n",
       "    }\n",
       "</style>\n",
       "<table border=\"1\" class=\"dataframe\">\n",
       "  <thead>\n",
       "    <tr style=\"text-align: right;\">\n",
       "      <th></th>\n",
       "      <th>Prefix length</th>\n",
       "      <th>Normal precision</th>\n",
       "      <th>Normal recall</th>\n",
       "      <th>Normal f1-score</th>\n",
       "      <th>Normal support</th>\n",
       "      <th>Anomal precision</th>\n",
       "      <th>Anomal recall</th>\n",
       "      <th>Anomal f1-score</th>\n",
       "      <th>Anomal support</th>\n",
       "      <th>Macro precision</th>\n",
       "      <th>Macro recall</th>\n",
       "      <th>Macro f1-score</th>\n",
       "    </tr>\n",
       "  </thead>\n",
       "  <tbody>\n",
       "    <tr>\n",
       "      <th>0</th>\n",
       "      <td>2</td>\n",
       "      <td>1.000000</td>\n",
       "      <td>1.000000</td>\n",
       "      <td>1.000000</td>\n",
       "      <td>89.0</td>\n",
       "      <td>1.000000</td>\n",
       "      <td>1.000000</td>\n",
       "      <td>1.000000</td>\n",
       "      <td>11.0</td>\n",
       "      <td>1.000000</td>\n",
       "      <td>1.000000</td>\n",
       "      <td>1.000000</td>\n",
       "    </tr>\n",
       "    <tr>\n",
       "      <th>1</th>\n",
       "      <td>3</td>\n",
       "      <td>0.978947</td>\n",
       "      <td>1.000000</td>\n",
       "      <td>0.989362</td>\n",
       "      <td>93.0</td>\n",
       "      <td>1.000000</td>\n",
       "      <td>0.714286</td>\n",
       "      <td>0.833333</td>\n",
       "      <td>7.0</td>\n",
       "      <td>0.989474</td>\n",
       "      <td>0.857143</td>\n",
       "      <td>0.911348</td>\n",
       "    </tr>\n",
       "    <tr>\n",
       "      <th>2</th>\n",
       "      <td>4</td>\n",
       "      <td>1.000000</td>\n",
       "      <td>0.824176</td>\n",
       "      <td>0.903614</td>\n",
       "      <td>91.0</td>\n",
       "      <td>0.360000</td>\n",
       "      <td>1.000000</td>\n",
       "      <td>0.529412</td>\n",
       "      <td>9.0</td>\n",
       "      <td>0.680000</td>\n",
       "      <td>0.912088</td>\n",
       "      <td>0.716513</td>\n",
       "    </tr>\n",
       "    <tr>\n",
       "      <th>3</th>\n",
       "      <td>5</td>\n",
       "      <td>1.000000</td>\n",
       "      <td>0.944444</td>\n",
       "      <td>0.971429</td>\n",
       "      <td>90.0</td>\n",
       "      <td>0.666667</td>\n",
       "      <td>1.000000</td>\n",
       "      <td>0.800000</td>\n",
       "      <td>10.0</td>\n",
       "      <td>0.833333</td>\n",
       "      <td>0.972222</td>\n",
       "      <td>0.885714</td>\n",
       "    </tr>\n",
       "    <tr>\n",
       "      <th>4</th>\n",
       "      <td>6</td>\n",
       "      <td>1.000000</td>\n",
       "      <td>1.000000</td>\n",
       "      <td>1.000000</td>\n",
       "      <td>88.0</td>\n",
       "      <td>1.000000</td>\n",
       "      <td>1.000000</td>\n",
       "      <td>1.000000</td>\n",
       "      <td>12.0</td>\n",
       "      <td>1.000000</td>\n",
       "      <td>1.000000</td>\n",
       "      <td>1.000000</td>\n",
       "    </tr>\n",
       "    <tr>\n",
       "      <th>5</th>\n",
       "      <td>7</td>\n",
       "      <td>1.000000</td>\n",
       "      <td>0.931034</td>\n",
       "      <td>0.964286</td>\n",
       "      <td>87.0</td>\n",
       "      <td>0.684211</td>\n",
       "      <td>1.000000</td>\n",
       "      <td>0.812500</td>\n",
       "      <td>13.0</td>\n",
       "      <td>0.842105</td>\n",
       "      <td>0.965517</td>\n",
       "      <td>0.888393</td>\n",
       "    </tr>\n",
       "    <tr>\n",
       "      <th>6</th>\n",
       "      <td>8</td>\n",
       "      <td>1.000000</td>\n",
       "      <td>0.858696</td>\n",
       "      <td>0.923977</td>\n",
       "      <td>92.0</td>\n",
       "      <td>0.380952</td>\n",
       "      <td>1.000000</td>\n",
       "      <td>0.551724</td>\n",
       "      <td>8.0</td>\n",
       "      <td>0.690476</td>\n",
       "      <td>0.929348</td>\n",
       "      <td>0.737850</td>\n",
       "    </tr>\n",
       "    <tr>\n",
       "      <th>7</th>\n",
       "      <td>9</td>\n",
       "      <td>1.000000</td>\n",
       "      <td>0.950617</td>\n",
       "      <td>0.974684</td>\n",
       "      <td>81.0</td>\n",
       "      <td>0.692308</td>\n",
       "      <td>1.000000</td>\n",
       "      <td>0.818182</td>\n",
       "      <td>9.0</td>\n",
       "      <td>0.846154</td>\n",
       "      <td>0.975309</td>\n",
       "      <td>0.896433</td>\n",
       "    </tr>\n",
       "    <tr>\n",
       "      <th>8</th>\n",
       "      <td>10</td>\n",
       "      <td>0.985915</td>\n",
       "      <td>0.958904</td>\n",
       "      <td>0.972222</td>\n",
       "      <td>73.0</td>\n",
       "      <td>0.700000</td>\n",
       "      <td>0.875000</td>\n",
       "      <td>0.777778</td>\n",
       "      <td>8.0</td>\n",
       "      <td>0.842958</td>\n",
       "      <td>0.916952</td>\n",
       "      <td>0.875000</td>\n",
       "    </tr>\n",
       "    <tr>\n",
       "      <th>9</th>\n",
       "      <td>11</td>\n",
       "      <td>1.000000</td>\n",
       "      <td>0.885714</td>\n",
       "      <td>0.939394</td>\n",
       "      <td>70.0</td>\n",
       "      <td>0.384615</td>\n",
       "      <td>1.000000</td>\n",
       "      <td>0.555556</td>\n",
       "      <td>5.0</td>\n",
       "      <td>0.692308</td>\n",
       "      <td>0.942857</td>\n",
       "      <td>0.747475</td>\n",
       "    </tr>\n",
       "    <tr>\n",
       "      <th>10</th>\n",
       "      <td>12</td>\n",
       "      <td>1.000000</td>\n",
       "      <td>0.745763</td>\n",
       "      <td>0.854369</td>\n",
       "      <td>59.0</td>\n",
       "      <td>0.250000</td>\n",
       "      <td>1.000000</td>\n",
       "      <td>0.400000</td>\n",
       "      <td>5.0</td>\n",
       "      <td>0.625000</td>\n",
       "      <td>0.872881</td>\n",
       "      <td>0.627184</td>\n",
       "    </tr>\n",
       "    <tr>\n",
       "      <th>11</th>\n",
       "      <td>13</td>\n",
       "      <td>0.971429</td>\n",
       "      <td>0.829268</td>\n",
       "      <td>0.894737</td>\n",
       "      <td>41.0</td>\n",
       "      <td>0.500000</td>\n",
       "      <td>0.875000</td>\n",
       "      <td>0.636364</td>\n",
       "      <td>8.0</td>\n",
       "      <td>0.735714</td>\n",
       "      <td>0.852134</td>\n",
       "      <td>0.765550</td>\n",
       "    </tr>\n",
       "    <tr>\n",
       "      <th>12</th>\n",
       "      <td>14</td>\n",
       "      <td>1.000000</td>\n",
       "      <td>0.552632</td>\n",
       "      <td>0.711864</td>\n",
       "      <td>38.0</td>\n",
       "      <td>0.150000</td>\n",
       "      <td>1.000000</td>\n",
       "      <td>0.260870</td>\n",
       "      <td>3.0</td>\n",
       "      <td>0.575000</td>\n",
       "      <td>0.776316</td>\n",
       "      <td>0.486367</td>\n",
       "    </tr>\n",
       "    <tr>\n",
       "      <th>13</th>\n",
       "      <td>15</td>\n",
       "      <td>1.000000</td>\n",
       "      <td>0.352941</td>\n",
       "      <td>0.521739</td>\n",
       "      <td>34.0</td>\n",
       "      <td>0.043478</td>\n",
       "      <td>1.000000</td>\n",
       "      <td>0.083333</td>\n",
       "      <td>1.0</td>\n",
       "      <td>0.521739</td>\n",
       "      <td>0.676471</td>\n",
       "      <td>0.302536</td>\n",
       "    </tr>\n",
       "  </tbody>\n",
       "</table>\n",
       "</div>"
      ],
      "text/plain": [
       "    Prefix length  Normal precision  Normal recall  Normal f1-score  \\\n",
       "0               2          1.000000       1.000000         1.000000   \n",
       "1               3          0.978947       1.000000         0.989362   \n",
       "2               4          1.000000       0.824176         0.903614   \n",
       "3               5          1.000000       0.944444         0.971429   \n",
       "4               6          1.000000       1.000000         1.000000   \n",
       "5               7          1.000000       0.931034         0.964286   \n",
       "6               8          1.000000       0.858696         0.923977   \n",
       "7               9          1.000000       0.950617         0.974684   \n",
       "8              10          0.985915       0.958904         0.972222   \n",
       "9              11          1.000000       0.885714         0.939394   \n",
       "10             12          1.000000       0.745763         0.854369   \n",
       "11             13          0.971429       0.829268         0.894737   \n",
       "12             14          1.000000       0.552632         0.711864   \n",
       "13             15          1.000000       0.352941         0.521739   \n",
       "\n",
       "    Normal support  Anomal precision  Anomal recall  Anomal f1-score  \\\n",
       "0             89.0          1.000000       1.000000         1.000000   \n",
       "1             93.0          1.000000       0.714286         0.833333   \n",
       "2             91.0          0.360000       1.000000         0.529412   \n",
       "3             90.0          0.666667       1.000000         0.800000   \n",
       "4             88.0          1.000000       1.000000         1.000000   \n",
       "5             87.0          0.684211       1.000000         0.812500   \n",
       "6             92.0          0.380952       1.000000         0.551724   \n",
       "7             81.0          0.692308       1.000000         0.818182   \n",
       "8             73.0          0.700000       0.875000         0.777778   \n",
       "9             70.0          0.384615       1.000000         0.555556   \n",
       "10            59.0          0.250000       1.000000         0.400000   \n",
       "11            41.0          0.500000       0.875000         0.636364   \n",
       "12            38.0          0.150000       1.000000         0.260870   \n",
       "13            34.0          0.043478       1.000000         0.083333   \n",
       "\n",
       "    Anomal support  Macro precision  Macro recall  Macro f1-score  \n",
       "0             11.0         1.000000      1.000000        1.000000  \n",
       "1              7.0         0.989474      0.857143        0.911348  \n",
       "2              9.0         0.680000      0.912088        0.716513  \n",
       "3             10.0         0.833333      0.972222        0.885714  \n",
       "4             12.0         1.000000      1.000000        1.000000  \n",
       "5             13.0         0.842105      0.965517        0.888393  \n",
       "6              8.0         0.690476      0.929348        0.737850  \n",
       "7              9.0         0.846154      0.975309        0.896433  \n",
       "8              8.0         0.842958      0.916952        0.875000  \n",
       "9              5.0         0.692308      0.942857        0.747475  \n",
       "10             5.0         0.625000      0.872881        0.627184  \n",
       "11             8.0         0.735714      0.852134        0.765550  \n",
       "12             3.0         0.575000      0.776316        0.486367  \n",
       "13             1.0         0.521739      0.676471        0.302536  "
      ]
     },
     "execution_count": 63,
     "metadata": {},
     "output_type": "execute_result"
    }
   ],
   "source": [
    "training_size = 0.8\n",
    "print('Training window size: %s' % (training_size))\n",
    "loss_prefix_dict =dict()\n",
    "classification_result = dict()\n",
    "anomaly_thr_method = 'diff'\n",
    "adaptive_thr_dict = dict()\n",
    "\n",
    "for prefix in prefix_range:    \n",
    "    # Extract per case:\n",
    "    # - The first (prefix-1) events (activities) as features.\n",
    "    # - The prefix-th event's activity as the target.\n",
    "    # - The prefix-th event's noise flag as the ground truth anomaly.\n",
    "    case_features = []\n",
    "    case_targets = []\n",
    "    ground_truth_anomaly = []\n",
    "\n",
    "    for case_id, group in df.groupby('ID'):\n",
    "        group = group.sort_index()  # assuming the order in the file is the event order\n",
    "        if len(group) >= prefix:\n",
    "            events = group['Activity'].values  # adjust 'Activity' if needed\n",
    "            features = events[:prefix-1]\n",
    "            target_activity = events[prefix-1]  # prefix-th event's activity\n",
    "            noise_flag = group['noise'].iloc[prefix-1]\n",
    "\n",
    "            case_features.append(features)\n",
    "            case_targets.append(target_activity)\n",
    "            ground_truth_anomaly.append(noise_flag)\n",
    "\n",
    "    # Convert to numpy arrays\n",
    "    case_features = np.array(case_features)\n",
    "    case_targets = np.array(case_targets)\n",
    "    ground_truth_anomaly = np.array(ground_truth_anomaly)\n",
    "    print(\"Total cases with at least %s events:\" % (prefix), case_features.shape[0])\n",
    "\n",
    "    # ----------------------------\n",
    "    # Step 2: Encode the Features and Target\n",
    "    # ----------------------------\n",
    "    encoder_features = OneHotEncoder(sparse_output=False, handle_unknown='ignore')\n",
    "    X_encoded = encoder_features.fit_transform(case_features)\n",
    "    print(\"Encoded feature shape:\", X_encoded.shape)\n",
    "\n",
    "    # IMPORTANT: Fit LabelEncoder on the full set of target activities (all cases)\n",
    "    target_encoder = LabelEncoder()\n",
    "    target_encoder.fit(case_targets)\n",
    "    y_encoded = target_encoder.transform(case_targets)\n",
    "    full_classes = target_encoder.classes_\n",
    "    # print(\"Full set of event classes (for prefix %s):\" % prefix, full_classes)\n",
    "\n",
    "    # ----------------------------\n",
    "    # Step 3: Ordered Train/Test Split and Next Event Prediction Model (Stage 1)\n",
    "    # ----------------------------\n",
    "    # Instead of a random split, take the first 80% for training and the remaining 20% for testing.\n",
    "    n_cases = X_encoded.shape[0]\n",
    "    split_index = int(training_size * n_cases)\n",
    "    test_index = split_index\n",
    "    X_train = X_encoded[:split_index]\n",
    "    X_test = X_encoded[test_index:]\n",
    "    y_train = y_encoded[:split_index]\n",
    "    y_test = y_encoded[test_index:]\n",
    "    gt_anomaly_train = ground_truth_anomaly[:split_index]\n",
    "    gt_anomaly_test = ground_truth_anomaly[test_index:]\n",
    "    print(\"Training cases:\", X_train.shape[0], \"Test cases:\", X_test.shape[0])\n",
    "\n",
    "    # ----------------------------\n",
    "    # Step 3: Train model\n",
    "    # ----------------------------\n",
    "\n",
    "    # Train a RandomForest classifier with the training set.\n",
    "    rf_model  = RandomForestClassifier(n_estimators=100, random_state=42)\n",
    "    rf_model.fit(X_train, y_train)\n",
    "\n",
    "    # ----------------------------\n",
    "    # Step 4: Anomaly Detection (Stage 2) with Dynamic Thresholding\n",
    "    # ----------------------------\n",
    "    # Obtain predicted probabilities for the test set.\n",
    "\n",
    "    normal_loss_dist = normal_loss(rf_model, X_test, y_test)\n",
    "    sorted_normal_loss_dist = np.array([i for i in normal_loss_dist if i <1.1])\n",
    "    sorted_normal_loss_dist = sorted(sorted_normal_loss_dist, reverse=True)\n",
    "\n",
    "    cross_entropy_loss_dist = cross_entropy_loss(rf_model, X_train, y_train)\n",
    "    sorted_cross_entropy_loss_dist = [i for i in cross_entropy_loss_dist if i < log_loss([1,0], [0,1])+1]\n",
    "    sorted_cross_entropy_loss_dist = sorted(sorted_cross_entropy_loss_dist, reverse=True)\n",
    "\n",
    "    sorted_normal_loss_dist,sorted_cross_entropy_loss_dist = get_clean_loss(sorted_normal_loss_dist, sorted_cross_entropy_loss_dist)\n",
    "\n",
    "    diffs = np.diff(sorted_cross_entropy_loss_dist)  # consecutive differences\n",
    "    threshold = -0.02  # e.g., define a large negative drop as dramatic\n",
    "    dramatic_indices = [i for i, d in enumerate(diffs, start=1) if d < threshold]\n",
    "\n",
    "    if len(dramatic_indices) ==0:\n",
    "        adaptive_thr =1\n",
    "    else:\n",
    "        adaptive_thr = sorted_cross_entropy_loss_dist[dramatic_indices[0]]\n",
    "        adaptive_thr_idx = sorted_cross_entropy_loss_dist.index(adaptive_thr)\n",
    "    if anomaly_thr_method == 'fixed':\n",
    "        adaptive_thr = 0.01\n",
    "        predicted_anomaly = (normal_loss_dist > 1-adaptive_thr).astype(int)\n",
    "    elif anomaly_thr_method == 'diff':\n",
    "        predicted_anomaly = (cross_entropy_loss_dist > adaptive_thr).astype(int)\n",
    "        adaptive_thr_dict[prefix] = adaptive_thr\n",
    "\n",
    "    x = np.arange(1, len(sorted_cross_entropy_loss_dist) + 1)\n",
    "    y = sorted_cross_entropy_loss_dist\n",
    "\n",
    "    idx, cutoff = find_largest_gap(cross_entropy_loss_dist)\n",
    "    print(f\"Largest gap before sorted-index={idx}, loss={cutoff:.4f}\")\n",
    "    predicted_anomaly = (cross_entropy_loss(rf_model, X_test, y_test) > cutoff).astype(int)\n",
    "\n",
    "    # ----------------------------\n",
    "    # Step 5: Evaluate the Anomaly Detection\n",
    "    # ----------------------------\n",
    "\n",
    "    classification = classification_report(gt_anomaly_test, predicted_anomaly, output_dict=True)\n",
    "    f1 = classification.get('1', {}).get('f1-score', 0)\n",
    "    support = classification.get('1', {}).get('support', 0)\n",
    "    classification_result[prefix] = classification\n",
    "#     classification_result[prefix]['ROC AUC'] = roc_auc_score(gt_anomaly_test, anom_clf.predict_proba(x_detect_test)[:,1])\n",
    "\n",
    "classification_result = cleaning_cls_result(classification_result)\n",
    "revised_cls_result = {}\n",
    "for i in classification_result.keys():\n",
    "    revised_cls_result[i] = dict()\n",
    "    revised_cls_result[i]['Normal precision'] =classification_result[i]['0']['precision']\n",
    "    revised_cls_result[i]['Normal recall'] =classification_result[i]['0']['recall']\n",
    "    revised_cls_result[i]['Normal f1-score'] =classification_result[i]['0']['f1-score']\n",
    "    revised_cls_result[i]['Normal support'] =classification_result[i]['0']['support']\n",
    "\n",
    "    revised_cls_result[i]['Anomal precision'] =classification_result[i]['1']['precision']\n",
    "    revised_cls_result[i]['Anomal recall'] =classification_result[i]['1']['recall']\n",
    "    revised_cls_result[i]['Anomal f1-score'] =classification_result[i]['1']['f1-score']\n",
    "    revised_cls_result[i]['Anomal support'] =classification_result[i]['1']['support']    \n",
    "\n",
    "    revised_cls_result[i]['Macro precision'] =classification_result[i]['macro avg']['precision']   \n",
    "    revised_cls_result[i]['Macro recall'] =classification_result[i]['macro avg']['recall']   \n",
    "    revised_cls_result[i]['Macro f1-score'] =classification_result[i]['macro avg']['f1-score']   \n",
    "#     revised_cls_result[i]['ROC AUC'] =classification_result[i]['ROC AUC']   \n",
    "result_df = pd.DataFrame.from_dict(revised_cls_result).T\n",
    "result_df.index = result_df.index.set_names(['Prefix length'])\n",
    "result_df = result_df.reset_index(drop=False)\n",
    "# result_file_title = '../result/%s_cross_entropy_%sfold_%s_anomal_thr_result.csv'%(dataset, fold, anomaly_thr_method)\n",
    "# print(result_file_title)\n",
    "result_df\n",
    "# result_df.to_csv(result_file_title, index=False)\n",
    "\n",
    "# loss_prefix_title = '../result/%s_cross_entropy_loss_list.json'%(dataset)\n",
    "# with open(loss_prefix_title, 'w') as f:\n",
    "#     json.dump(adaptive_thr_dict, f)"
   ]
  },
  {
   "cell_type": "code",
   "execution_count": 56,
   "id": "8cc2a1da",
   "metadata": {},
   "outputs": [
    {
     "name": "stdout",
     "output_type": "stream",
     "text": [
      "[0.01546343 0.         0.03128598 0.         0.         0.00142678\n",
      " 0.00213281 0.01625767 0.01099245 0.00932389 0.39688796 0.\n",
      " 0.         0.         0.         0.         0.         0.\n",
      " 0.         0.         0.         0.         0.         0.\n",
      " 0.         0.         0.         0.         0.         0.\n",
      " 0.         0.         0.         0.         0.         0.\n",
      " 0.         0.         0.         0.         0.         0.\n",
      " 0.         0.         0.         0.         0.         0.\n",
      " 0.         0.         0.         0.         0.         0.\n",
      " 0.         0.         0.         0.         0.         0.\n",
      " 0.         0.         0.         0.         0.         0.\n",
      " 0.         0.         0.         0.         0.         0.\n",
      " 0.         0.         0.         0.         0.         0.\n",
      " 0.         0.         0.         0.         0.         0.\n",
      " 0.         0.         0.00997727 0.00118276 0.         0.0011723\n",
      " 0.         0.         0.         0.         0.         0.\n",
      " 0.         0.         0.        ]\n",
      "10\n",
      "Largest gap before sorted-index=11, loss=0.0123\n"
     ]
    }
   ],
   "source": []
  },
  {
   "cell_type": "code",
   "execution_count": 46,
   "id": "993bbfb1",
   "metadata": {},
   "outputs": [
    {
     "ename": "NameError",
     "evalue": "name 'losses' is not defined",
     "output_type": "error",
     "traceback": [
      "\u001b[1;31m---------------------------------------------------------------------------\u001b[0m",
      "\u001b[1;31mNameError\u001b[0m                                 Traceback (most recent call last)",
      "\u001b[1;32m~\\AppData\\Local\\Temp/ipykernel_16408/445943918.py\u001b[0m in \u001b[0;36m<module>\u001b[1;34m\u001b[0m\n\u001b[1;32m----> 1\u001b[1;33m \u001b[1;33m-\u001b[0m\u001b[0mnp\u001b[0m\u001b[1;33m.\u001b[0m\u001b[0msort\u001b[0m\u001b[1;33m(\u001b[0m\u001b[1;33m-\u001b[0m\u001b[0mlosses\u001b[0m\u001b[1;33m)\u001b[0m\u001b[1;33m\u001b[0m\u001b[1;33m\u001b[0m\u001b[0m\n\u001b[0m",
      "\u001b[1;31mNameError\u001b[0m: name 'losses' is not defined"
     ]
    }
   ],
   "source": [
    "-np.sort(-losses)"
   ]
  }
 ],
 "metadata": {
  "kernelspec": {
   "display_name": "Python 3 (ipykernel)",
   "language": "python",
   "name": "python3"
  },
  "language_info": {
   "codemirror_mode": {
    "name": "ipython",
    "version": 3
   },
   "file_extension": ".py",
   "mimetype": "text/x-python",
   "name": "python",
   "nbconvert_exporter": "python",
   "pygments_lexer": "ipython3",
   "version": "3.9.4"
  }
 },
 "nbformat": 4,
 "nbformat_minor": 5
}
